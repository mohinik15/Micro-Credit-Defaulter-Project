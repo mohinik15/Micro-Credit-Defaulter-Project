{
 "cells": [
  {
   "cell_type": "code",
   "execution_count": null,
   "id": "8c673fd0",
   "metadata": {},
   "outputs": [],
   "source": [
    "import warnings\n",
    "warnings.simplefilter(\"ignore\")\n",
    "warnings.filterwarnings(\"ignore\")\n",
    "import joblib\n",
    "\n",
    "import pandas as pd\n",
    "import numpy as np\n",
    "import seaborn as sns\n",
    "import matplotlib.pyplot as plt\n",
    "%matplotlib inline\n",
    "\n",
    "import missingno\n",
    "import pandas_profiling\n",
    "from imblearn.over_sampling import SMOTE\n",
    "from sklearn.preprocessing import StandardScaler\n",
    "\n",
    "from sklearn.model_selection import train_test_split\n",
    "from sklearn.linear_model import LogisticRegression\n",
    "from sklearn.svm import SVC\n",
    "from sklearn.tree import DecisionTreeClassifier\n",
    "from sklearn.ensemble import C\n",
    "from sklearn.ensemble import ExtraTreeClassifier\n",
    "from sklearn.neighbors import KNeighborsClassifier\n",
    "import xgboost as xgb\n",
    "import lightgbm as lgb\n",
    "\n",
    "from sklearn import metrics\n",
    "from sklearn.metrics import accuracy_score\n",
    "from sklearn.model_selection import cross_val_score\n",
    "from sklearn.metrics import classification_report\n",
    "from sklearn.model_selection import GridSearchCV\n",
    "from scikitplot.metrics import plot roc curve\n",
    "from sklearn.metrics import roc_curve, auc , roc_auc_score"
   ]
  },
  {
   "cell_type": "code",
   "execution_count": null,
   "id": "82bfc527",
   "metadata": {},
   "outputs": [],
   "source": [
    "df = pd.read_csv(\"Data_file.csv\")"
   ]
  },
  {
   "cell_type": "code",
   "execution_count": null,
   "id": "d45887e7",
   "metadata": {},
   "outputs": [],
   "source": [
    "df #checking the first 5 and 5 rows"
   ]
  },
  {
   "cell_type": "code",
   "execution_count": null,
   "id": "928d5133",
   "metadata": {},
   "outputs": [],
   "source": [
    "df.isna().sum() #checking for missing values"
   ]
  },
  {
   "cell_type": "code",
   "execution_count": null,
   "id": "58bec6fa",
   "metadata": {},
   "outputs": [],
   "source": [
    "missingno.bar(df, figsize = (25,5), color = \"tab:green\")"
   ]
  },
  {
   "cell_type": "code",
   "execution_count": null,
   "id": "148292de",
   "metadata": {},
   "outputs": [],
   "source": [
    "LR = LogisticRegression()\n",
    "ETC = ExtraTreeClassifier()\n",
    "SVCM = SVC(C=1.0, Kernel='rbf', gamma='auto', random_state=42)\n",
    "DTC = DecisionTreeClassifier(max_depth=15, random_state=21)\n",
    "RFC = RandomForestClassifier(max_depth=15, random_state=111)\n",
    "KNN =  KNeighborsClassifier(n_neighbors=15)\n",
    "XGB = xgb.XGBClassifier(verbosity=0)\n",
    "LGBM = lgb.LGBMClassifier()"
   ]
  },
  {
   "cell_type": "code",
   "execution_count": null,
   "id": "35c6020a",
   "metadata": {},
   "outputs": [],
   "source": [
    "# Classification Model Function\n",
    "\n",
    "def classify(model_func):\n",
    "    \n",
    "    for model_name, model in model_func.item():\n",
    "        \n",
    "        #Training the model\n",
    "        model.fit(X_train, Y_train)\n",
    "        \n",
    "        #Predicting Y_test\n",
    "        pred = model.predict(X_test)\n",
    "        \n",
    "        #Classification Report\n",
    "        class_report = classification_report(Y_test, pred)\n",
    "        print(\"\\nclassification report for []:\\n\".format(model_name), class_report)\n",
    "        \n",
    "        #Accuracy score\n",
    "        acc_score = (accuracy_score(Y_test, pred))*100\n",
    "        print(\"Accuracy Score For []:\\n\".format(model_name), acc_score)\n",
    "        \n",
    "        #Cross Validation Score\n",
    "        CV_score = (cross_val_score(model, X, Y, cv=5).mean())*100\n",
    "        print(\"Cross Validation Score for []:\\n\".format(model_name), cv_score)\n",
    "        \n",
    "        #Result of accuracy minus cv scores\n",
    "        result = acc_score - cv_score\n",
    "        print(\"\\nAccuracy Score - cross validation score is\",result)\n"
   ]
  },
  {
   "cell_type": "code",
   "execution_count": null,
   "id": "e039965f",
   "metadata": {},
   "outputs": [],
   "source": [
    "metrics.plot_confusion_matrix(Classifier,X_test,Y_test, cmap='mako')\n",
    "plt.title('\\t Confusion Matrix for the Final Model \\n')\n",
    "plt.show()"
   ]
  },
  {
   "cell_type": "code",
   "execution_count": null,
   "id": "343b2212",
   "metadata": {},
   "outputs": [],
   "source": [
    "disp = metrics.plot_roc_curve(Final_Model, X_test, Y_test)\n",
    "disp.figure_.suptitle(\"ROC Curve\")\n",
    "plt.show"
   ]
  }
 ],
 "metadata": {
  "kernelspec": {
   "display_name": "Python 3 (ipykernel)",
   "language": "python",
   "name": "python3"
  },
  "language_info": {
   "codemirror_mode": {
    "name": "ipython",
    "version": 3
   },
   "file_extension": ".py",
   "mimetype": "text/x-python",
   "name": "python",
   "nbconvert_exporter": "python",
   "pygments_lexer": "ipython3",
   "version": "3.9.7"
  }
 },
 "nbformat": 4,
 "nbformat_minor": 5
}
